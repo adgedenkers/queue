{
 "cells": [
  {
   "cell_type": "code",
   "execution_count": 25,
   "metadata": {},
   "outputs": [],
   "source": [
    "import json\n",
    "import os\n",
    "import requests"
   ]
  },
  {
   "cell_type": "code",
   "execution_count": 26,
   "metadata": {},
   "outputs": [
    {
     "name": "stdout",
     "output_type": "stream",
     "text": [
      "{'user-id': '1', 'x-token': '6b1f9eeb7e3a1f6e3b3f1a2c5a7d9e1b'}\n",
      "404\n"
     ]
    }
   ],
   "source": [
    "def send_api_request(\n",
    "    url: str,\n",
    "    method: str = \"GET\",\n",
    "    user_id: str = None,\n",
    "    x_token: str = None,\n",
    "    data: dict = None,\n",
    "    params: dict = None\n",
    "):\n",
    "    \"\"\"\n",
    "    Sends an HTTP request to the specified API URL.\n",
    "\n",
    "    Args:\n",
    "        url (str): The endpoint URL.\n",
    "        method (str): The HTTP method to use (GET, POST, PUT, DELETE). Defaults to \"GET\".\n",
    "        user_id (str): The user ID required for authentication.\n",
    "        x_token (str): The token required for authentication.\n",
    "        data (dict): The data to be sent in the body of the request (for POST/PUT).\n",
    "        params (dict): Query parameters for the request.\n",
    "\n",
    "    Returns:\n",
    "        requests.Response: The response object from the HTTP request.\n",
    "    \"\"\"\n",
    "    # Define the headers with default values for user-id and x-token\n",
    "    headers = {\n",
    "        \"user-id\": user_id,\n",
    "        \"x-token\": x_token,\n",
    "    }\n",
    "\n",
    "    # Filter out None values from headers\n",
    "    headers = {k: v for k, v in headers.items() if v is not None}\n",
    "    print(headers)\n",
    "\n",
    "    try:\n",
    "        # Determine the request method and send the request accordingly\n",
    "        if method.upper() == \"GET\":\n",
    "            response = requests.get(url, headers=headers, params=params)\n",
    "        elif method.upper() == \"POST\":\n",
    "            response = requests.post(url, headers=headers, json=data, params=params)\n",
    "        elif method.upper() == \"PUT\":\n",
    "            response = requests.put(url, headers=headers, json=data, params=params)\n",
    "        elif method.upper() == \"DELETE\":\n",
    "            response = requests.delete(url, headers=headers, params=params)\n",
    "        else:\n",
    "            raise ValueError(f\"Unsupported HTTP method: {method}\")\n",
    "\n",
    "        # Return the response to the caller\n",
    "        return response\n",
    "\n",
    "    except requests.exceptions.RequestException as e:\n",
    "        print(f\"An error occurred: {e}\")\n",
    "        return None\n",
    "\n",
    "# Example usage:\n",
    "requested_user_id = \"1\"\n",
    "\n",
    "api_url = \"http://api.denkers.co/user/{requested_user_id}\"\n",
    "method = \"GET\"\n",
    "user_id = \"1\"\n",
    "x_token = \"6b1f9eeb7e3a1f6e3b3f1a2c5a7d9e1b\"\n",
    "\n",
    "response = send_api_request(api_url, method, user_id, x_token)\n",
    "\n",
    "print(response.status_code)\n",
    "\n",
    "# if response:\n",
    "#     print(response.status_code)\n",
    "#     print(response.json())\n",
    "\n",
    "# print(response.json())"
   ]
  },
  {
   "cell_type": "code",
   "execution_count": 31,
   "metadata": {},
   "outputs": [
    {
     "name": "stdout",
     "output_type": "stream",
     "text": [
      "{'user-id': '1', 'x-token': '6b1f9eeb7e3a1f6e3b3f1a2c5a7d9e1b'}\n"
     ]
    }
   ],
   "source": [
    "response = send_api_request(\n",
    "    url=\"https://api.denkers.co/user/1\",\n",
    "    method=\"GET\",\n",
    "    user_id=\"1\",\n",
    "    x_token=\"6b1f9eeb7e3a1f6e3b3f1a2c5a7d9e1b\"\n",
    ")\n",
    "\n"
   ]
  },
  {
   "cell_type": "code",
   "execution_count": 32,
   "metadata": {},
   "outputs": [
    {
     "data": {
      "text/plain": [
       "'Internal Server Error'"
      ]
     },
     "execution_count": 32,
     "metadata": {},
     "output_type": "execute_result"
    }
   ],
   "source": [
    "response.text"
   ]
  }
 ],
 "metadata": {
  "kernelspec": {
   "display_name": ".venv",
   "language": "python",
   "name": "python3"
  },
  "language_info": {
   "codemirror_mode": {
    "name": "ipython",
    "version": 3
   },
   "file_extension": ".py",
   "mimetype": "text/x-python",
   "name": "python",
   "nbconvert_exporter": "python",
   "pygments_lexer": "ipython3",
   "version": "3.11.6"
  }
 },
 "nbformat": 4,
 "nbformat_minor": 2
}
