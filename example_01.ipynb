{
 "cells": [
  {
   "cell_type": "markdown",
   "metadata": {},
   "source": [
    "### Get Detailed Information on Shoes to Sell with ChatGPT"
   ]
  },
  {
   "cell_type": "code",
   "execution_count": null,
   "metadata": {},
   "outputs": [],
   "source": [
    "shoe_str = \"DV by dolche vida size 11 Elaine in Rose Gold\"\n",
    "# shoe_str = \"Adidas Samba Classic Black White Mens Size 12\"\n",
    "# shoe_str = \"Birkenstock sandals bostonian size 9 womens\""
   ]
  },
  {
   "cell_type": "code",
   "execution_count": null,
   "metadata": {},
   "outputs": [],
   "source": [
    "import json\n",
    "import openai\n",
    "import os\n",
    "import requests\n",
    "import dotenv\n",
    "from openai import OpenAI, OpenAIError, AsyncOpenAI"
   ]
  },
  {
   "cell_type": "code",
   "execution_count": null,
   "metadata": {},
   "outputs": [],
   "source": [
    "dotenv.load_dotenv()"
   ]
  },
  {
   "cell_type": "code",
   "execution_count": null,
   "metadata": {},
   "outputs": [],
   "source": [
    "GPT_MODEL = \"gpt-4\"\n",
    "openai.api_key = os.environ['OPENAI_API_KEY']\n",
    "\n",
    "client = openai.OpenAI()\n",
    "\n",
    "def chat_completion_request(messages, tools=None, tool_choice=None, model=GPT_MODEL):\n",
    "    try:\n",
    "        response = client.chat.completions.create(\n",
    "            model=model,\n",
    "            messages=messages,\n",
    "            tools=tools,\n",
    "            tool_choice=tool_choice,\n",
    "        )\n",
    "        return response\n",
    "    except Exception as e:\n",
    "        print(\"Unable to generate ChatCompletion response\")\n",
    "        print(f\"Exception: {e}\")\n",
    "        return e\n"
   ]
  },
  {
   "cell_type": "markdown",
   "metadata": {},
   "source": [
    "### Create a Queue Entry with the information"
   ]
  },
  {
   "cell_type": "code",
   "execution_count": 15,
   "metadata": {},
   "outputs": [],
   "source": [
    "shoe = chat_completion_request([\n",
    "    {\"role\": \"system\", \"content\": \"You are a precise data extractor. Respond only with the requested JSON format.\"},\n",
    "    {\"role\": \"user\", \"content\": f\"{shoe_str}\"},])"
   ]
  },
  {
   "cell_type": "markdown",
   "metadata": {},
   "source": [
    "### Parse the Response"
   ]
  },
  {
   "cell_type": "code",
   "execution_count": 16,
   "metadata": {},
   "outputs": [
    {
     "data": {
      "text/plain": [
       "{'Brand': 'DV by dolche vida',\n",
       " 'Size': '11',\n",
       " 'Model': 'Elaine',\n",
       " 'Color': 'Rose Gold'}"
      ]
     },
     "execution_count": 16,
     "metadata": {},
     "output_type": "execute_result"
    }
   ],
   "source": [
    "json.loads(shoe.choices[0].message.content)"
   ]
  },
  {
   "cell_type": "code",
   "execution_count": 17,
   "metadata": {},
   "outputs": [],
   "source": [
    "def chat_enhance_shoe_data(messages, tools=None, tool_choice=None, model=GPT_MODEL):\n",
    "    try:\n",
    "        response = client.chat.completions.create(\n",
    "            model=model,\n",
    "            messages=messages,\n",
    "            tools=tools,\n",
    "            tool_choice=tool_choice,\n",
    "        )\n",
    "        return response\n",
    "    except Exception as e:\n",
    "        print(\"Unable to generate ChatCompletion response\")\n",
    "        print(f\"Exception: {e}\")\n",
    "        return e"
   ]
  },
  {
   "cell_type": "code",
   "execution_count": 18,
   "metadata": {},
   "outputs": [],
   "source": [
    "#print(shoe.choices[0].message.content)\n",
    "shoe_data = json.loads(shoe.choices[0].message.content)"
   ]
  },
  {
   "cell_type": "code",
   "execution_count": 19,
   "metadata": {},
   "outputs": [],
   "source": [
    "# get shoe prompt\n",
    "with open('static/prompts/shoe_prompt.txt', 'r') as file: shoe_prompt = file.read()"
   ]
  },
  {
   "cell_type": "code",
   "execution_count": 20,
   "metadata": {},
   "outputs": [],
   "source": [
    "def clean_json_blocks(text: str) -> str:\n",
    "    \"\"\"\n",
    "    Checks if text starts with ```json and ends with ``` and removes these markers if present.\n",
    "    Properly handles newline characters after the opening marker.\n",
    "    \n",
    "    Args:\n",
    "        text (str): The input text to process\n",
    "        \n",
    "    Returns:\n",
    "        str: Text with JSON code block markers removed if they existed, otherwise original text\n",
    "    \"\"\"\n",
    "    # Strip whitespace to handle cases with leading/trailing spaces\n",
    "    stripped_text = text.strip()\n",
    "    \n",
    "    # Check if text starts and ends with the markers\n",
    "    starts_with_json = stripped_text.startswith(\"```json\")\n",
    "    ends_with_backticks = stripped_text.endswith(\"```\")\n",
    "    \n",
    "    if starts_with_json and ends_with_backticks:\n",
    "        # Remove the ```json marker and any single following newline\n",
    "        content = stripped_text[6:]  # Remove ```json\n",
    "        if content.startswith('\\n'):\n",
    "            content = content[1:]  # Remove single newline after ```json\n",
    "            \n",
    "        # Remove the ending ```\n",
    "        if content.endswith('```'):\n",
    "            content = content[:-3]\n",
    "            \n",
    "        return content.strip()\n",
    "    \n",
    "    return text"
   ]
  },
  {
   "cell_type": "code",
   "execution_count": 21,
   "metadata": {},
   "outputs": [],
   "source": [
    "enhanced_shoe_data = chat_completion_request([\n",
    "    {\"role\": \"system\", \"content\": f\"{shoe_prompt} DO NOT RETURN ANY TEXT OR COMMENTS ONLY JSON DATA\"},\n",
    "    {\"role\": \"user\", \"content\": f\"{shoe_data}\"}]\n",
    ")"
   ]
  },
  {
   "cell_type": "code",
   "execution_count": 22,
   "metadata": {},
   "outputs": [],
   "source": [
    "# enhance the existing data on the shoes\n",
    "output = enhanced_shoe_data.choices[0].message.content\n",
    "output = clean_json_blocks(output)\n",
    "output = json.loads(output)"
   ]
  },
  {
   "cell_type": "code",
   "execution_count": 23,
   "metadata": {},
   "outputs": [
    {
     "data": {
      "text/plain": [
       "{'brand': 'DV by dolche vida',\n",
       " 'model': 'Elaine',\n",
       " 'size': '11',\n",
       " 'gender': 'Womens',\n",
       " 'color': 'Rose Gold',\n",
       " 'condition': 'New',\n",
       " 'shoe_type': 'Heels',\n",
       " 'style': 'Ballet',\n",
       " 'material': 'Leather',\n",
       " 'fit_type': 'Regular',\n",
       " 'pattern': 'Solid',\n",
       " 'occasion': 'Casual',\n",
       " 'season': 'All Season',\n",
       " 'length': None,\n",
       " 'upc': '884095273938',\n",
       " 'msrp': 45.0,\n",
       " 'asking_price': 35.0,\n",
       " 'sale_price': None,\n",
       " 'description': \"DV by dolche vida Women's Elaine Ballet Flat Heels, Size 11, Rose Gold.\",\n",
       " 'quantity': 1,\n",
       " 'condition_id': 1000,\n",
       " 'dispatch_time': 1,\n",
       " 'return_accepted': True,\n",
       " 'return_policy': '30-day returns',\n",
       " 'shipping_type': 'Flat',\n",
       " 'shipping_cost': 0.0,\n",
       " 'international_shipping': False,\n",
       " 'item_location': 'New York, NY',\n",
       " 'listing_status': 'Active',\n",
       " 'views': 0,\n",
       " 'watchers': 0,\n",
       " 'last_updated': '2022-03-30T18:24:41.379Z',\n",
       " 'created_at': '2022-03-30T18:24:41.379Z'}"
      ]
     },
     "execution_count": 23,
     "metadata": {},
     "output_type": "execute_result"
    }
   ],
   "source": [
    "# print the enhanced shoe data\n",
    "output"
   ]
  },
  {
   "cell_type": "code",
   "execution_count": 4,
   "metadata": {},
   "outputs": [
    {
     "name": "stdout",
     "output_type": "stream",
     "text": [
      "User Token None\n",
      "User ID None\n"
     ]
    }
   ],
   "source": [
    "import os\n",
    "print(\"User Token\", os.getenv('CURRENT_USER_TOKEN'))\n",
    "print(\"User ID\", os.getenv('CURRENT_USER_TOKEN'))"
   ]
  },
  {
   "cell_type": "code",
   "execution_count": 25,
   "metadata": {},
   "outputs": [
    {
     "name": "stdout",
     "output_type": "stream",
     "text": [
      "Womens\n",
      "Womens\n"
     ]
    }
   ],
   "source": [
    "print(output['gender'])\n",
    "output['gender'] = output['gender'].replace(\"'\", \"\")\n",
    "print(output['gender'])"
   ]
  },
  {
   "cell_type": "code",
   "execution_count": null,
   "metadata": {},
   "outputs": [],
   "source": [
    "url = \"https://api.denkers.co/shoes/\" \n",
    "\n",
    "headers = {\n",
    "    \"x-token\": os.getenv('CURRENT_USER_TOKEN'),\n",
    "    \"user_id\": os.getenv('CURRENT_USER_ID'),\n",
    "    \"Content-Type\": \"application/json\",\n",
    "    \"Accept\": \"application/json\",\n",
    "}\n"
   ]
  },
  {
   "cell_type": "code",
   "execution_count": 32,
   "metadata": {},
   "outputs": [
    {
     "name": "stdout",
     "output_type": "stream",
     "text": [
      "{'x-token': '6b1f9eeb7e3a1f6e3b3f1a2c5a7d9e1b', 'user_id': '1', 'Content-Type': 'application/json', 'Accept': 'application/json'}\n",
      "{'brand': 'DV by dolche vida', 'model': 'Elaine', 'size': '11', 'gender': 'Womens', 'color': 'Rose Gold', 'condition': 'New', 'shoe_type': 'Heels', 'style': 'Ballet', 'material': 'Leather', 'fit_type': 'Regular', 'pattern': 'Solid', 'occasion': 'Casual', 'season': 'All Season', 'length': None, 'upc': '884095273938', 'msrp': 45.0, 'asking_price': 35.0, 'sale_price': None, 'description': \"DV by dolche vida Women's Elaine Ballet Flat Heels, Size 11, Rose Gold.\", 'quantity': 1, 'condition_id': 1000, 'dispatch_time': 1, 'return_accepted': True, 'return_policy': '30-day returns', 'shipping_type': 'Flat', 'shipping_cost': 0.0, 'international_shipping': False, 'item_location': 'New York, NY', 'listing_status': 'Active', 'views': 0, 'watchers': 0, 'last_updated': '2022-03-30T18:24:41.379Z', 'created_at': '2022-03-30T18:24:41.379Z'}\n"
     ]
    }
   ],
   "source": [
    "print(headers)\n",
    "print(output)"
   ]
  },
  {
   "cell_type": "code",
   "execution_count": 35,
   "metadata": {},
   "outputs": [
    {
     "name": "stdout",
     "output_type": "stream",
     "text": [
      "{\"brand\": \"DV by dolche vida\", \"model\": \"Elaine\", \"size\": \"11\", \"gender\": \"Womens\", \"color\": \"Rose Gold\", \"condition\": \"New\", \"shoe_type\": \"Heels\", \"style\": \"Ballet\", \"material\": \"Leather\", \"fit_type\": \"Regular\", \"pattern\": \"Solid\", \"occasion\": \"Casual\", \"season\": \"All Season\", \"length\": null, \"upc\": \"884095273938\", \"msrp\": 45.0, \"asking_price\": 35.0, \"sale_price\": null, \"description\": \"DV by dolche vida Women's Elaine Ballet Flat Heels, Size 11, Rose Gold.\", \"quantity\": 1, \"condition_id\": 1000, \"dispatch_time\": 1, \"return_accepted\": true, \"return_policy\": \"30-day returns\", \"shipping_type\": \"Flat\", \"shipping_cost\": 0.0, \"international_shipping\": false, \"item_location\": \"New York, NY\", \"listing_status\": \"Active\", \"views\": 0, \"watchers\": 0, \"last_updated\": \"2022-03-30T18:24:41.379Z\", \"created_at\": \"2022-03-30T18:24:41.379Z\"}\n"
     ]
    }
   ],
   "source": [
    "print(json.dumps(output))"
   ]
  },
  {
   "cell_type": "markdown",
   "metadata": {},
   "source": [
    "#### Execute the Request"
   ]
  },
  {
   "cell_type": "code",
   "execution_count": 36,
   "metadata": {},
   "outputs": [],
   "source": [
    "params = {\n",
    "    \"user_id\": \"1\"\n",
    "}\n",
    "response = requests.post(url, headers=headers, json=output, params=params)"
   ]
  },
  {
   "cell_type": "markdown",
   "metadata": {},
   "source": [
    "#### What Happened"
   ]
  },
  {
   "cell_type": "code",
   "execution_count": 37,
   "metadata": {},
   "outputs": [
    {
     "name": "stdout",
     "output_type": "stream",
     "text": [
      "500\n",
      "b'{\"detail\":\"Database error occurred\"}'\n"
     ]
    }
   ],
   "source": [
    "print(response.status_code)\n",
    "print(response.content)"
   ]
  },
  {
   "cell_type": "code",
   "execution_count": 97,
   "metadata": {},
   "outputs": [
    {
     "name": "stdout",
     "output_type": "stream",
     "text": [
      "{\"brand\": \"DV by Dolce Vita\", \"model\": \"Elaine\", \"size\": \"11\", \"gender\": \"Womens\", \"color\": \"Rose Gold\", \"condition\": \"New\", \"shoe_type\": \"Sandals\", \"style\": \"Strappy Sandals\", \"material\": \"Synthetic\", \"fit_type\": \"Standard Fit\", \"pattern\": \"Solid\", \"occasion\": \"Casual, Outdoor\", \"season\": \"Spring, Summer\", \"length\": null, \"upc\": \"888133729889\", \"msrp\": 35.99, \"asking_price\": 29.99, \"sale_price\": null, \"description\": \"Stand out in style with the DV by Dolce Vita Elaine sandals in Rose Gold. They are designed to leave a lasting impression wherever you go. They offer a comfortable fit and a stylish design that is perfect for any occasion.\", \"quantity\": 1, \"condition_id\": 1000, \"dispatch_time\": 1, \"return_accepted\": true, \"return_policy\": \"30-day returns\", \"shipping_type\": \"Flat\", \"shipping_cost\": 0.0, \"international_shipping\": false, \"item_location\": \"Los Angeles, CA\", \"listing_status\": \"Active\", \"views\": 0, \"watchers\": 0, \"last_updated\": \"2022-09-28T12:34:56Z\", \"created_at\": \"2022-09-28T12:34:56Z\"}\n"
     ]
    }
   ],
   "source": [
    "print(json.dumps(output))"
   ]
  }
 ],
 "metadata": {
  "kernelspec": {
   "display_name": ".venv",
   "language": "python",
   "name": "python3"
  },
  "language_info": {
   "codemirror_mode": {
    "name": "ipython",
    "version": 3
   },
   "file_extension": ".py",
   "mimetype": "text/x-python",
   "name": "python",
   "nbconvert_exporter": "python",
   "pygments_lexer": "ipython3",
   "version": "3.11.6"
  }
 },
 "nbformat": 4,
 "nbformat_minor": 2
}
