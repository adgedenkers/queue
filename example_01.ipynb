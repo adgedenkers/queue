{
 "cells": [
  {
   "cell_type": "markdown",
   "metadata": {},
   "source": [
    "### Get Detailed Information on Shoes to Sell with ChatGPT"
   ]
  },
  {
   "cell_type": "code",
   "execution_count": 12,
   "metadata": {},
   "outputs": [],
   "source": [
    "shoe = \"DV by dolche vida size 11 Elaine in Rose Gold\"\n",
    "# shoe=\"Adidas Samba Classic Black White Mens Size 12\"\n",
    "# shoe = \"Birkenstock sandals bostonian size 9 womens\""
   ]
  },
  {
   "cell_type": "code",
   "execution_count": 13,
   "metadata": {},
   "outputs": [],
   "source": [
    "import json\n",
    "import openai\n",
    "import os\n",
    "import requests\n",
    "\n",
    "from openai import OpenAI, OpenAIError, AsyncOpenAI\n",
    "\n",
    "GPT_MODEL = \"gpt-4\"\n",
    "openai.api_key = os.environ['OPENAI_API_KEY']\n",
    "\n",
    "client = openai.OpenAI()\n",
    "\n",
    "def chat_completion_request(messages, tools=None, tool_choice=None, model=GPT_MODEL):\n",
    "    try:\n",
    "        response = client.chat.completions.create(\n",
    "            model=model,\n",
    "            messages=messages,\n",
    "            tools=tools,\n",
    "            tool_choice=tool_choice,\n",
    "        )\n",
    "        return response\n",
    "    except Exception as e:\n",
    "        print(\"Unable to generate ChatCompletion response\")\n",
    "        print(f\"Exception: {e}\")\n",
    "        return e\n"
   ]
  },
  {
   "cell_type": "code",
   "execution_count": 14,
   "metadata": {},
   "outputs": [],
   "source": [
    "shoe = chat_completion_request([\n",
    "    {\"role\": \"system\", \"content\": \"You are a precise data extractor. Respond only with the requested JSON format.\"},\n",
    "    {\"role\": \"user\", \"content\": f\"{shoe}\"},])"
   ]
  },
  {
   "cell_type": "code",
   "execution_count": 15,
   "metadata": {},
   "outputs": [
    {
     "data": {
      "text/plain": [
       "{'brand': 'DV by dolche vida',\n",
       " 'size': 11,\n",
       " 'model': 'Elaine',\n",
       " 'color': 'Rose Gold'}"
      ]
     },
     "execution_count": 15,
     "metadata": {},
     "output_type": "execute_result"
    }
   ],
   "source": [
    "json.loads(shoe.choices[0].message.content)"
   ]
  },
  {
   "cell_type": "code",
   "execution_count": 16,
   "metadata": {},
   "outputs": [],
   "source": [
    "def chat_enhance_shoe_data(messages, tools=None, tool_choice=None, model=GPT_MODEL):\n",
    "    try:\n",
    "        response = client.chat.completions.create(\n",
    "            model=model,\n",
    "            messages=messages,\n",
    "            tools=tools,\n",
    "            tool_choice=tool_choice,\n",
    "        )\n",
    "        return response\n",
    "    except Exception as e:\n",
    "        print(\"Unable to generate ChatCompletion response\")\n",
    "        print(f\"Exception: {e}\")\n",
    "        return e"
   ]
  },
  {
   "cell_type": "code",
   "execution_count": 17,
   "metadata": {},
   "outputs": [],
   "source": [
    "#print(shoe.choices[0].message.content)\n",
    "shoe_data = json.loads(shoe.choices[0].message.content)"
   ]
  },
  {
   "cell_type": "code",
   "execution_count": 18,
   "metadata": {},
   "outputs": [],
   "source": [
    "# get shoe prompt\n",
    "with open('static/prompts/shoe_prompt.txt', 'r') as file: shoe_prompt = file.read()"
   ]
  },
  {
   "cell_type": "code",
   "execution_count": 19,
   "metadata": {},
   "outputs": [],
   "source": [
    "enhanced_shoe_data = chat_completion_request([\n",
    "    {\"role\": \"system\", \"content\": f\"{shoe_prompt}\"},\n",
    "    {\"role\": \"user\", \"content\": f\"{shoe_data}\"}]\n",
    ")"
   ]
  },
  {
   "cell_type": "code",
   "execution_count": 20,
   "metadata": {},
   "outputs": [],
   "source": [
    "#print(enhanced_shoe_data.choices[0].message.content)\n",
    "#shoe_info=json.loads(enhanced_shoe_data.choices[0].message.content)\n",
    "output = enhanced_shoe_data.choices[0].message.content\n",
    "output = output.replace(\"```json\", \" \")\n",
    "output = output.replace(\"```\", \" \")\n",
    "\n",
    "#output = json.loads(output)"
   ]
  },
  {
   "cell_type": "code",
   "execution_count": 38,
   "metadata": {},
   "outputs": [],
   "source": [
    "output = json.loads(output)"
   ]
  },
  {
   "cell_type": "code",
   "execution_count": 22,
   "metadata": {},
   "outputs": [
    {
     "name": "stdout",
     "output_type": "stream",
     "text": [
      "6b1f9eeb7e3a1f6e3b3f1a2c5a7d9e1b\n"
     ]
    }
   ],
   "source": [
    "import os\n",
    "print(os.getenv('ADGE_TOKEN'))"
   ]
  },
  {
   "cell_type": "code",
   "execution_count": 51,
   "metadata": {},
   "outputs": [],
   "source": [
    "\n",
    "output['gender'] = output['gender'].lower()\n"
   ]
  },
  {
   "cell_type": "code",
   "execution_count": 50,
   "metadata": {},
   "outputs": [
    {
     "data": {
      "text/plain": [
       "{'brand': 'Birkenstock',\n",
       " 'model': 'Bostonian',\n",
       " 'size': '9',\n",
       " 'gender': 'womens',\n",
       " 'color': 'Black',\n",
       " 'condition': 'New',\n",
       " 'material': 'Leather',\n",
       " 'fit_type': 'Regular',\n",
       " 'pattern': 'Solid',\n",
       " 'occasion': 'Casual',\n",
       " 'season': 'All Seasons',\n",
       " 'length': None,\n",
       " 'upc': '4013871344614',\n",
       " 'msrp': 135,\n",
       " 'asking_price': 120,\n",
       " 'sale_price': None,\n",
       " 'description': \"Birkenstock Bostonian sandals are a classic and comfortable shoe that's perfect for everyday wear. They feature a single adjustable buckle and a rounded toe box to keep your feet comfortable and secure. They are handcrafted in Germany with high-quality materials for durability and longevity.\",\n",
       " 'quantity': 1,\n",
       " 'condition_id': 1000,\n",
       " 'dispatch_time': 1,\n",
       " 'return_accepted': True,\n",
       " 'return_policy': '30-day returns',\n",
       " 'shipping_type': 'Flat',\n",
       " 'shipping_cost': 0.0,\n",
       " 'international_shipping': False,\n",
       " 'item_location': 'New York, NY',\n",
       " 'listing_status': 'Active',\n",
       " 'views': 0,\n",
       " 'watchers': 0,\n",
       " 'last_updated': '2022-06-20 18:52:47',\n",
       " 'created_at': '2022-06-20 18:52:47'}"
      ]
     },
     "execution_count": 50,
     "metadata": {},
     "output_type": "execute_result"
    }
   ],
   "source": [
    "output"
   ]
  },
  {
   "cell_type": "code",
   "execution_count": 52,
   "metadata": {},
   "outputs": [],
   "source": [
    "url = \"https://api.denkers.co/shoes/\" \n",
    "\n",
    "headers = {\n",
    "    \"x-token\": os.getenv('ADGE_TOKEN'),\n",
    "    \"user_id\": \"1\",\n",
    "    \"Content-Type\": \"application/json\",\n",
    "    \"Accept\": \"application/json\",\n",
    "}\n"
   ]
  },
  {
   "cell_type": "code",
   "execution_count": 53,
   "metadata": {},
   "outputs": [],
   "source": [
    "params = {\n",
    "    \"user_id\": 1\n",
    "}\n",
    "response = requests.post(url, headers=headers, json=output, params=params)"
   ]
  },
  {
   "cell_type": "code",
   "execution_count": 48,
   "metadata": {},
   "outputs": [
    {
     "name": "stdout",
     "output_type": "stream",
     "text": [
      "422\n",
      "b'{\"detail\":[{\"type\":\"missing\",\"loc\":[\"body\",\"shoe_type\"],\"msg\":\"Field required\",\"input\":{\"brand\":\"Birkenstock\",\"model\":\"Bostonian\",\"size\":\"9\",\"gender\":\"womens\",\"color\":\"Black\",\"condition\":\"New\",\"material\":\"Leather\",\"fit_type\":\"Regular\",\"pattern\":\"Solid\",\"occasion\":\"Casual\",\"season\":\"All Seasons\",\"length\":null,\"upc\":\"4013871344614\",\"msrp\":135,\"asking_price\":120,\"sale_price\":null,\"description\":\"Birkenstock Bostonian sandals are a classic and comfortable shoe that\\'s perfect for everyday wear. They feature a single adjustable buckle and a rounded toe box to keep your feet comfortable and secure. They are handcrafted in Germany with high-quality materials for durability and longevity.\",\"quantity\":1,\"condition_id\":1000,\"dispatch_time\":1,\"return_accepted\":true,\"return_policy\":\"30-day returns\",\"shipping_type\":\"Flat\",\"shipping_cost\":0.0,\"international_shipping\":false,\"item_location\":\"New York, NY\",\"listing_status\":\"Active\",\"views\":0,\"watchers\":0,\"last_updated\":\"2022-06-20 18:52:47\",\"created_at\":\"2022-06-20 18:52:47\"},\"url\":\"https://errors.pydantic.dev/2.9/v/missing\"},{\"type\":\"missing\",\"loc\":[\"body\",\"style\"],\"msg\":\"Field required\",\"input\":{\"brand\":\"Birkenstock\",\"model\":\"Bostonian\",\"size\":\"9\",\"gender\":\"womens\",\"color\":\"Black\",\"condition\":\"New\",\"material\":\"Leather\",\"fit_type\":\"Regular\",\"pattern\":\"Solid\",\"occasion\":\"Casual\",\"season\":\"All Seasons\",\"length\":null,\"upc\":\"4013871344614\",\"msrp\":135,\"asking_price\":120,\"sale_price\":null,\"description\":\"Birkenstock Bostonian sandals are a classic and comfortable shoe that\\'s perfect for everyday wear. They feature a single adjustable buckle and a rounded toe box to keep your feet comfortable and secure. They are handcrafted in Germany with high-quality materials for durability and longevity.\",\"quantity\":1,\"condition_id\":1000,\"dispatch_time\":1,\"return_accepted\":true,\"return_policy\":\"30-day returns\",\"shipping_type\":\"Flat\",\"shipping_cost\":0.0,\"international_shipping\":false,\"item_location\":\"New York, NY\",\"listing_status\":\"Active\",\"views\":0,\"watchers\":0,\"last_updated\":\"2022-06-20 18:52:47\",\"created_at\":\"2022-06-20 18:52:47\"},\"url\":\"https://errors.pydantic.dev/2.9/v/missing\"}]}'\n"
     ]
    }
   ],
   "source": [
    "print(response.status_code)\n",
    "print(response.content)"
   ]
  }
 ],
 "metadata": {
  "kernelspec": {
   "display_name": ".venv",
   "language": "python",
   "name": "python3"
  },
  "language_info": {
   "codemirror_mode": {
    "name": "ipython",
    "version": 3
   },
   "file_extension": ".py",
   "mimetype": "text/x-python",
   "name": "python",
   "nbconvert_exporter": "python",
   "pygments_lexer": "ipython3",
   "version": "3.11.6"
  }
 },
 "nbformat": 4,
 "nbformat_minor": 2
}
